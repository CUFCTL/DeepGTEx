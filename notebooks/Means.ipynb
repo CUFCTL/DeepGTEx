{
 "cells": [
  {
   "cell_type": "code",
   "execution_count": 13,
   "metadata": {
    "collapsed": true
   },
   "outputs": [],
   "source": [
    "import numpy as np\n",
    "import os\n",
    "import matplotlib.pyplot as plt; plt.rcdefaults()\n",
    "import matplotlib.pyplot as plt\n",
    "from sklearn import preprocessing\n",
    "import json"
   ]
  },
  {
   "cell_type": "code",
   "execution_count": 14,
   "metadata": {
    "collapsed": true
   },
   "outputs": [],
   "source": [
    "tissues = os.listdir(\"./tissues\")\n",
    "gene_count_dict = dict()\n",
    "\n",
    "#Create dictionary of the number of samples in each Tissue Directory\n",
    "for i in range(len(tissues)):#loop through all tissue types\n",
    "    tissue_samples = os.listdir(\"./tissues/\"+ tissues[i])#get dat files/samples\n",
    "    for j in range(len(tissue_samples)):\n",
    "        gene_count_dict[tissues[i]] = len(tissue_samples)\n",
    "\n"
   ]
  },
  {
   "cell_type": "code",
   "execution_count": 15,
   "metadata": {
    "collapsed": true
   },
   "outputs": [],
   "source": [
    "with open(\"numsamples.json\", 'w') as f:\n",
    "    json.dump(gene_count_dict, f)"
   ]
  },
  {
   "cell_type": "code",
   "execution_count": 16,
   "metadata": {},
   "outputs": [],
   "source": [
    "#for Hallmarks, there are 200 genes\n",
    "for i in range(len(tissues)):#loop through all tissue types\n",
    "    average_expressions = np.zeros(200)\n",
    "    tissue_samples = os.listdir(\"./tissues/\"+ tissues[i])#get dat files/samples\n",
    "\n",
    "    for j in range(gene_count_dict[tissues[i]]):\n",
    "        #print(tissue_samples[0])\n",
    "        sample = np.fromfile(\"./tissues/\"+ tissues[i]+'/' + tissue_samples[j], dtype=np.float32)\n",
    "        for d in range(200):\n",
    "            average_expressions[d] += sample[d]\n",
    "        \n",
    "    average_expressions = np.reshape(average_expressions, (average_expressions.shape[0], 1))\n",
    "    maxabsscalar = preprocessing.MaxAbsScaler()\n",
    "    average_expressions = maxabsscalar.fit_transform(average_expressions)\n",
    "    \n",
    "    #write graph\n",
    "    plt.clf()#clears plot\n",
    "    x_range = np.arange(average_expressions.size)\n",
    "    plt.bar(x_range,average_expressions)\n",
    "    plt.title(tissues[i])\n",
    "    plt.ylabel('Expression Level')\n",
    "    plt.ylim(0,1)\n",
    "    #plt.xticks(x_range)\n",
    "    #plt.show()\n",
    "    plt.savefig('./images/'+ tissues[i] +'.png')\n",
    "    "
   ]
  },
  {
   "cell_type": "code",
   "execution_count": 91,
   "metadata": {
    "collapsed": true
   },
   "outputs": [],
   "source": []
  },
  {
   "cell_type": "code",
   "execution_count": 61,
   "metadata": {
    "collapsed": true
   },
   "outputs": [],
   "source": []
  },
  {
   "cell_type": "code",
   "execution_count": 10,
   "metadata": {
    "collapsed": true
   },
   "outputs": [],
   "source": []
  },
  {
   "cell_type": "code",
   "execution_count": null,
   "metadata": {
    "collapsed": true
   },
   "outputs": [],
   "source": []
  }
 ],
 "metadata": {
  "kernelspec": {
   "display_name": "Python 3",
   "language": "python",
   "name": "python3"
  },
  "language_info": {
   "codemirror_mode": {
    "name": "ipython",
    "version": 3
   },
   "file_extension": ".py",
   "mimetype": "text/x-python",
   "name": "python",
   "nbconvert_exporter": "python",
   "pygments_lexer": "ipython3",
   "version": "3.6.1"
  }
 },
 "nbformat": 4,
 "nbformat_minor": 2
}
