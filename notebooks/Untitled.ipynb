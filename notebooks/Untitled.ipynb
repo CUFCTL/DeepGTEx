{
 "cells": [
  {
   "cell_type": "code",
   "execution_count": null,
   "metadata": {},
   "outputs": [],
   "source": [
    "#/usr/bin/python\n",
    "\n",
    "import numpy as np\n",
    "import os\n",
    "\n",
    "hallmarks = []\n",
    "gtex_string_data = []\n",
    "ensembl_map = []\n",
    "hallmark_dict = dict()\n",
    "genes_dict = dict()\n"
   ]
  },
  {
   "cell_type": "code",
   "execution_count": null,
   "metadata": {},
   "outputs": [],
   "source": [
    "print('loading hallmark gene list...')\n",
    "with open('../BROAD_LISTS/h.all.v6.0.symbols.gmt') as f:\n",
    "\tcontent = f.readlines()\n",
    "\n",
    "for c in content:\n",
    "\tc = c.replace('\\n', '')\n",
    "\thallmarks.append(np.array(c.split('\\t')))\n"
   ]
  },
  {
   "cell_type": "code",
   "execution_count": null,
   "metadata": {},
   "outputs": [],
   "source": [
    "for i in range(len(hallmarks)):\n",
    "    hallmark_dict[hallmarks[i][0]] = hallmarks[i][2:len(hallmarks[i])]\n",
    "    "
   ]
  },
  {
   "cell_type": "code",
   "execution_count": null,
   "metadata": {},
   "outputs": [],
   "source": [
    "for i in hallmark_dict.keys():\n",
    "    print(i)"
   ]
  },
  {
   "cell_type": "code",
   "execution_count": 4,
   "metadata": {},
   "outputs": [],
   "source": []
  },
  {
   "cell_type": "code",
   "execution_count": 7,
   "metadata": {},
   "outputs": [
    {
     "data": {
      "text/plain": [
       "39825"
      ]
     },
     "execution_count": 7,
     "metadata": {},
     "output_type": "execute_result"
    }
   ],
   "source": []
  },
  {
   "cell_type": "code",
   "execution_count": null,
   "metadata": {},
   "outputs": [],
   "source": []
  }
 ],
 "metadata": {
  "kernelspec": {
   "display_name": "Python 2",
   "language": "python",
   "name": "python2"
  },
  "language_info": {
   "codemirror_mode": {
    "name": "ipython",
    "version": 2
   },
   "file_extension": ".py",
   "mimetype": "text/x-python",
   "name": "python",
   "nbconvert_exporter": "python",
   "pygments_lexer": "ipython2",
   "version": "2.7.12"
  }
 },
 "nbformat": 4,
 "nbformat_minor": 2
}
