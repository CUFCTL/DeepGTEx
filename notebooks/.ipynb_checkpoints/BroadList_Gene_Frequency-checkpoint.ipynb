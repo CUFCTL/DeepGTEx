{
 "cells": [
  {
   "cell_type": "code",
   "execution_count": 22,
   "metadata": {},
   "outputs": [],
   "source": [
    "#/usr/bin/python\n",
    "\n",
    "import numpy as np\n",
    "import os\n",
    "\n",
    "hallmarks = []\n",
    "gtex_string_data = []\n",
    "ensembl_map = []\n",
    "hallmark_dict = dict()\n",
    "genes_dict = dict()\n"
   ]
  },
  {
   "cell_type": "code",
   "execution_count": 23,
   "metadata": {},
   "outputs": [
    {
     "name": "stdout",
     "output_type": "stream",
     "text": [
      "loading hallmark gene list...\n"
     ]
    }
   ],
   "source": [
    "print('loading hallmark gene list...')\n",
    "with open('../BROAD_LISTS/h.all.v6.0.symbols.gmt') as f:\n",
    "\tcontent = f.readlines()\n",
    "\n",
    "for c in content:\n",
    "\tc = c.replace('\\n', '')\n",
    "\thallmarks.append(np.array(c.split('\\t')))\n"
   ]
  },
  {
   "cell_type": "code",
   "execution_count": 24,
   "metadata": {},
   "outputs": [],
   "source": [
    "for i in range(len(hallmarks)):\n",
    "    hallmark_dict[hallmarks[i][0]] = hallmarks[i][2:len(hallmarks[i])]"
   ]
  },
  {
   "cell_type": "code",
   "execution_count": 28,
   "metadata": {},
   "outputs": [],
   "source": [
    "for i in hallmark_dict.keys():\n",
    "    gene_array = hallmark_dict[i]\n",
    "    for j in range(len(hallmark_dict[i])):\n",
    "        if gene_array[j] in genes_dict:\n",
    "             genes_dict[gene_array[j]] += 1\n",
    "        else:\n",
    "            genes_dict[gene_array[j]] = 1"
   ]
  },
  {
   "cell_type": "code",
   "execution_count": 31,
   "metadata": {},
   "outputs": [],
   "source": [
    "unique_genes = { k:v for k, v in genes_dict.items() if v > 1}"
   ]
  },
  {
   "cell_type": "code",
   "execution_count": null,
   "metadata": {},
   "outputs": [],
   "source": [
    "fig = plt.figure(figsize=(20,10))\n",
    "x = range(len(unique_genes))\n",
    "plt.bar(x,unique_genes.values())\n",
    "plt.xlabel('Broad Genes > 1')\n",
    "plt.xticks(x,unique_genes.keys())\n",
    "plt.xticks(rotation=90)\n",
    "plt.ylabel(\"Frequency\")\n",
    "plt.show()"
   ]
  },
  {
   "cell_type": "code",
   "execution_count": null,
   "metadata": {},
   "outputs": [],
   "source": []
  }
 ],
 "metadata": {
  "kernelspec": {
   "display_name": "Python 2",
   "language": "python",
   "name": "python2"
  },
  "language_info": {
   "codemirror_mode": {
    "name": "ipython",
    "version": 2
   },
   "file_extension": ".py",
   "mimetype": "text/x-python",
   "name": "python",
   "nbconvert_exporter": "python",
   "pygments_lexer": "ipython2",
   "version": "2.7.12"
  }
 },
 "nbformat": 4,
 "nbformat_minor": 2
}
